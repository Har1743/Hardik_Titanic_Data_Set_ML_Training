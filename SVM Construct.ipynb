{
 "cells": [
  {
   "cell_type": "code",
   "execution_count": 3,
   "id": "164f3845",
   "metadata": {},
   "outputs": [],
   "source": [
    "# visualization\n",
    "\n",
    "import matplotlib.pyplot as plt\n",
    "%matplotlib inline\n",
    "import numpy as np"
   ]
  },
  {
   "cell_type": "code",
   "execution_count": 4,
   "id": "681b3be1",
   "metadata": {},
   "outputs": [
    {
     "data": {
      "text/plain": [
       "[<matplotlib.lines.Line2D at 0x1c888dc0670>]"
      ]
     },
     "execution_count": 4,
     "metadata": {},
     "output_type": "execute_result"
    },
    {
     "data": {
      "image/png": "[encoded data removed]",
      "text/plain": [
       "<Figure size 432x288 with 1 Axes>"
      ]
     },
     "metadata": {
      "needs_background": "light"
     },
     "output_type": "display_data"
    }
   ],
   "source": [
    "datax = [-1,-1,1,1]\n",
    "datay = [-1,1,-1,1]\n",
    "color = ['go','ro','ro','go']\n",
    "\n",
    "for i in range(4):\n",
    "    plt.plot(datax[i],datay[i],color[i])\n",
    "\n",
    "for i in range(4):\n",
    "    plt.plot(datax[i],datax[i]*datay[i],color[i])\n",
    "    \n",
    "plt.plot([-1,1],[1,1], linestyle='--')\n",
    "plt.plot([-1,1],[-1,-1], linestyle='--')\n",
    "\n",
    "a = np.array([[-1,1],[1,1]])\n",
    "b = np.array([[-1,1],[-1,-1]])\n",
    "\n",
    "plt.plot([-1, 1], [0, 0])"
   ]
  }
 ],
 "metadata": {
  "kernelspec": {
   "display_name": "Python 3 (ipykernel)",
   "language": "python",
   "name": "python3"
  },
  "language_info": {
   "codemirror_mode": {
    "name": "ipython",
    "version": 3
   },
   "file_extension": ".py",
   "mimetype": "text/x-python",
   "name": "python",
   "nbconvert_exporter": "python",
   "pygments_lexer": "ipython3",
   "version": "3.9.12"
  }
 },
 "nbformat": 4,
 "nbformat_minor": 5
}
